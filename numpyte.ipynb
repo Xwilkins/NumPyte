{
 "cells": [
  {
   "cell_type": "markdown",
   "metadata": {},
   "source": [
    "# The Search for the NumPyte Crystal\n",
    "\n",
    "You've finally reached it, the cave of the NumPyte Crystal! After many grueling weeks of training, packing, and climbing, you've arrived at the mouth of Array Cave in the mountains of Datalore - and it's exactly what it looks like in the pictures. Better, even! But now the journey has only just begun, as the reason you're here - the same reason as everyone else who makes the journey to the cave's entrance - is to solve the Mystery of Matrix Grotto and acquire the NumPyte crystal deep within the caverns of the mountain. Be sure that you're prepared - you'll need the toolkit the masters built for you to aid you in this mission. You also have your [guidebook](https://numpy.org/doc/stable/user/absolute_beginners#), a common resource for all adventurers to this particular cave. With these two resources at your disposal, this adventure should be an absolute breeze."
   ]
  },
  {
   "cell_type": "markdown",
   "metadata": {},
   "source": [
    "## Preparing Your Toolkit\n",
    "\n",
    "Before you venture further into Array Cave, you'll need to make sure everything's prepped and ready to go; nobody wants to be stuck in a cave without the proper equipment!"
   ]
  },
  {
   "cell_type": "code",
   "execution_count": 4,
   "metadata": {},
   "outputs": [],
   "source": [
    "# Check for NumPy - you rummage in your pack for your trusty toolkit\n",
    "try:\n",
    "    import numpy as np\n",
    "except ImportError:\n",
    "    raise ImportError(\"You can't proceed into the cave without NumPy!\")"
   ]
  },
  {
   "cell_type": "code",
   "execution_count": 2,
   "metadata": {},
   "outputs": [
    {
     "name": "stdout",
     "output_type": "stream",
     "text": [
      "Requirement already satisfied: numpy in c:\\future_horizons\\python_project\\python_day_2\\demoenv\\lib\\site-packages (2.1.1)\n"
     ]
    }
   ],
   "source": [
    "# Uncomment and run the line below if you got an ImportError in the cell above\n",
    "# !pip install numpy"
   ]
  },
  {
   "cell_type": "markdown",
   "metadata": {},
   "source": [
    "After a quick snack break and equipment check, you're ready to begin your descent."
   ]
  },
  {
   "cell_type": "markdown",
   "metadata": {},
   "source": [
    "## The Creatrium"
   ]
  },
  {
   "cell_type": "markdown",
   "metadata": {},
   "source": [
    "As you enter the cave, the air stills and grows slightly warmer. The mouth of the cave narrows to a small tunnel curving downwards in a spiral.\n",
    "\n",
    "According to your map, just below the mouth of the cave is a small chamber that collects the meltwater from the peak above and distills it into a spring. This spring feeds caverns below it and nourishes a beautiful ecosystem of plants, fungi, and animals. The cavern is known to explorers as the Creatrium.\n",
    "\n",
    "You arrive at the bottom of the spiral tunnel and the Creatrium greets you with what sounds like a brook, its babbles distorted by the cave walls. The spring is in an alcove built into the side of the small room, with a stream of pure water trickling over the rim, onto the floor, and down a small passageway. You can hear it echoing further into the mountain.\n",
    "\n",
    "You understand that this water is of the purest snow from the highest peak in Datalore - its properties are powerful and beneficial. You know from your research that although the water flows below, it doesn't remain as pure, so you'll want to store some for later. Your toolkit is designed specifically for this purpose: you can use it to create and manipulate vials that will store different liquids that you find on your adventures. [This page](https://numpy.org/doc/stable/user/absolute_beginners#how-to-create-a-basic-array) in your guidebook should help with making particular types of arrays that your vials can store."
   ]
  },
  {
   "cell_type": "markdown",
   "metadata": {},
   "source": [
    "### Task 1: Making a Sourcewater Vial"
   ]
  },
  {
   "cell_type": "code",
   "execution_count": 67,
   "metadata": {
    "nbgrader": {
     "grade": false,
     "grade_id": "task-1-solution",
     "locked": false,
     "schema_version": 3,
     "solution": true,
     "task": false
    }
   },
   "outputs": [
    {
     "name": "stdout",
     "output_type": "stream",
     "text": [
      "[0. 0. 0. 0. 0. 0. 0. 0. 0. 0.]\n"
     ]
    }
   ],
   "source": [
    "sw_vial = None\n",
    "\n",
    "# Reassign sw_vial to a NumPy array of 10 zeros\n",
    "### BEGIN SOLUTION\n",
    "sw_vial=np.zeros(10)\n",
    "### END SOLUTION\n",
    "\n",
    "print(sw_vial)"
   ]
  },
  {
   "cell_type": "code",
   "execution_count": 48,
   "metadata": {
    "nbgrader": {
     "grade": true,
     "grade_id": "task-1-tests",
     "locked": true,
     "points": 2,
     "schema_version": 3,
     "solution": false,
     "task": false
    }
   },
   "outputs": [
    {
     "name": "stdout",
     "output_type": "stream",
     "text": [
      "Success!\n"
     ]
    }
   ],
   "source": [
    "assert sw_vial is not None, \"sw_vial must be assigned to something!\"\n",
    "### BEGIN HIDDEN TESTS\n",
    "assert isinstance(sw_vial, np.ndarray), \"sw_vial must be a NumPy array!\"\n",
    "assert sw_vial.shape == (10,), \"sw_vial must be a 1D array of length 10!\"\n",
    "assert np.all(sw_vial == 0), \"sw_vial must be an array of zeros!\"\n",
    "### END HIDDEN TESTS\n",
    "print(\"Success!\")"
   ]
  },
  {
   "cell_type": "markdown",
   "metadata": {},
   "source": [
    "### Task 2: Adjusting the Vial Size\n",
    "\n",
    "You hear a voice, unable to discern from where it came. \"Take only what you need...and you need a little more\", it says. A small ampoule forms in the pool of water. You feel an urge to [`.concatenate()`](https://numpy.org/doc/stable/user/absolute_beginners.html#adding-removing-and-sorting-elements) this ampoule onto your own vial.\n"
   ]
  },
  {
   "cell_type": "code",
   "execution_count": 69,
   "metadata": {
    "nbgrader": {
     "grade": false,
     "grade_id": "task-2-solution",
     "locked": false,
     "schema_version": 3,
     "solution": true,
     "task": false
    }
   },
   "outputs": [
    {
     "name": "stdout",
     "output_type": "stream",
     "text": [
      "The size of sw_ampoule is: 6\n",
      "The size of sw_vial is: 10\n",
      "The size of sw_vial is now: 16\n"
     ]
    }
   ],
   "source": [
    "sw_ampoule = np.zeros(6)\n",
    "print(f\"The size of sw_ampoule is: {sw_ampoule.size}\")\n",
    "print(f\"The size of sw_vial is: {sw_vial.size}\")\n",
    "\n",
    "# Concatenate sw_ampoule onto sw_vial and delete sw_vial\n",
    "### BEGIN SOLUTION\n",
    "sw_vial= np.concatenate((sw_vial,sw_ampoule),axis=0)\n",
    "del sw_ampoule\n",
    "### END SOLUTION\n",
    "\n",
    "print(\"The size of sw_vial is now:\", sw_vial.size)"
   ]
  },
  {
   "cell_type": "code",
   "execution_count": 74,
   "metadata": {
    "nbgrader": {
     "grade": true,
     "grade_id": "task-2-tests",
     "locked": true,
     "points": 2,
     "schema_version": 3,
     "solution": false,
     "task": false
    }
   },
   "outputs": [
    {
     "ename": "AssertionError",
     "evalue": "sw_vial must be a 1D array of length 16!",
     "output_type": "error",
     "traceback": [
      "\u001b[1;31m---------------------------------------------------------------------------\u001b[0m",
      "\u001b[1;31mAssertionError\u001b[0m                            Traceback (most recent call last)",
      "Cell \u001b[1;32mIn[74], line 3\u001b[0m\n\u001b[0;32m      1\u001b[0m \u001b[38;5;28;01massert\u001b[39;00m \u001b[38;5;28misinstance\u001b[39m(sw_vial, np\u001b[38;5;241m.\u001b[39mndarray), \u001b[38;5;124m\"\u001b[39m\u001b[38;5;124msw_vial must be a NumPy array!\u001b[39m\u001b[38;5;124m\"\u001b[39m\n\u001b[0;32m      2\u001b[0m \u001b[38;5;66;03m### BEGIN HIDDEN TESTS\u001b[39;00m\n\u001b[1;32m----> 3\u001b[0m \u001b[38;5;28;01massert\u001b[39;00m sw_vial\u001b[38;5;241m.\u001b[39mshape \u001b[38;5;241m==\u001b[39m (\u001b[38;5;241m16\u001b[39m,), \u001b[38;5;124m\"\u001b[39m\u001b[38;5;124msw_vial must be a 1D array of length 16!\u001b[39m\u001b[38;5;124m\"\u001b[39m\n\u001b[0;32m      4\u001b[0m \u001b[38;5;28;01massert\u001b[39;00m np\u001b[38;5;241m.\u001b[39mall(sw_vial \u001b[38;5;241m==\u001b[39m \u001b[38;5;241m0\u001b[39m), \u001b[38;5;124m\"\u001b[39m\u001b[38;5;124msw_vial must be an array of zeros!\u001b[39m\u001b[38;5;124m\"\u001b[39m\n\u001b[0;32m      5\u001b[0m \u001b[38;5;28;01massert\u001b[39;00m \u001b[38;5;124m\"\u001b[39m\u001b[38;5;124msw_ampoule\u001b[39m\u001b[38;5;124m\"\u001b[39m \u001b[38;5;129;01mnot\u001b[39;00m \u001b[38;5;129;01min\u001b[39;00m \u001b[38;5;28mlocals\u001b[39m(), \u001b[38;5;124m\"\u001b[39m\u001b[38;5;124msw_ampoule must be deleted!\u001b[39m\u001b[38;5;124m\"\u001b[39m\n",
      "\u001b[1;31mAssertionError\u001b[0m: sw_vial must be a 1D array of length 16!"
     ]
    }
   ],
   "source": [
    "assert isinstance(sw_vial, np.ndarray), \"sw_vial must be a NumPy array!\"\n",
    "### BEGIN HIDDEN TESTS\n",
    "assert sw_vial.shape == (16,), \"sw_vial must be a 1D array of length 16!\"\n",
    "assert np.all(sw_vial == 0), \"sw_vial must be an array of zeros!\"\n",
    "assert \"sw_ampoule\" not in locals(), \"sw_ampoule must be deleted!\"\n",
    "### END HIDDEN TESTS\n",
    "print(\"Success!\")"
   ]
  },
  {
   "cell_type": "markdown",
   "metadata": {},
   "source": [
    "### Task 3: Adjusting the Vial Shape\n",
    "\n",
    "The vial is now a bit larger than you originally intended, but if it's what the headless voice wants, then it must be so. You feel it would be best to [`.reshape()`](https://numpy.org/doc/stable/user/absolute_beginners.html#can-you-reshape-an-array) it a bit to make it a little easier to carry. However, even though you can see it with perfect clarity, you can't distinguish its shape with any particular certainty. Luckily, your toolkit comes in handy for measuring and manipulating not just the size of an array, but its [shape](https://numpy.org/doc/stable/user/absolute_beginners.html#how-do-you-know-the-shape-and-size-of-an-array)!"
   ]
  },
  {
   "cell_type": "code",
   "execution_count": 71,
   "metadata": {
    "nbgrader": {
     "grade": false,
     "grade_id": "task-3-solution",
     "locked": false,
     "schema_version": 3,
     "solution": true,
     "task": false
    }
   },
   "outputs": [
    {
     "name": "stdout",
     "output_type": "stream",
     "text": [
      "The shape of sw_vial is: (16,).\n",
      "Now the shape of sw_vial is: (8, 2).\n"
     ]
    },
    {
     "data": {
      "text/plain": [
       "array([[0., 0.],\n",
       "       [0., 0.],\n",
       "       [0., 0.],\n",
       "       [0., 0.],\n",
       "       [0., 0.],\n",
       "       [0., 0.],\n",
       "       [0., 0.],\n",
       "       [0., 0.]])"
      ]
     },
     "execution_count": 71,
     "metadata": {},
     "output_type": "execute_result"
    }
   ],
   "source": [
    "print(f\"The shape of sw_vial is: {sw_vial.shape}.\")\n",
    "# Reshape sw_vial to have a shape of (8, 2)\n",
    "### BEGIN SOLUTION\n",
    "sw_vial = np.reshape(sw_vial, (8,2))\n",
    "### END SOLUTION\n",
    "\n",
    "print(f\"Now the shape of sw_vial is: {sw_vial.shape}.\")\n",
    "sw_vial"
   ]
  },
  {
   "cell_type": "code",
   "execution_count": 72,
   "metadata": {
    "nbgrader": {
     "grade": true,
     "grade_id": "task-3-tests",
     "locked": true,
     "points": 2,
     "schema_version": 3,
     "solution": false,
     "task": false
    }
   },
   "outputs": [
    {
     "name": "stdout",
     "output_type": "stream",
     "text": [
      "Success!\n"
     ]
    }
   ],
   "source": [
    "assert isinstance(sw_vial, np.ndarray), \"sw_vial must be a NumPy array!\"\n",
    "### BEGIN HIDDEN TESTS\n",
    "assert sw_vial.shape == (8, 2), \"sw_vial must be a 2D array of shape (8, 2)!\"\n",
    "assert np.all(sw_vial == 0), \"sw_vial must be an array of zeros!\"\n",
    "### END HIDDEN TESTS\n",
    "print(\"Success!\")"
   ]
  },
  {
   "cell_type": "markdown",
   "metadata": {},
   "source": [
    "You now have a vial that's twice as stout as it once was and able to fit in your pocket. This is where you promptly store it and continue through the passageway, further downwards."
   ]
  },
  {
   "cell_type": "markdown",
   "metadata": {},
   "source": [
    "## The Prophecy\n"
   ]
  },
  {
   "cell_type": "markdown",
   "metadata": {},
   "source": [
    "You follow the stream of Sourcewater and your descent brings you to the edge of a glowing orange chasm. The glow seems to be originating from the bottom of the chasm, and rising up with small reddish blobs of gel. You know you'll need another vial of this substance, which you recognize as Firejelly. However, your eyes are drawn to the letters on the wall of the chasm. In wide, cracked gouges - as if a giant had scrawled upon it - the wall reads:\n",
    "\n",
    "\"The purest fire and the purest water, when combined in the right way, is the lifeblood of the Great Hero of the New Age. This solution, distilled into a single drop and applied to the Great Hero's vessel, combined with the Hero's true name spoken aloud, is enough to rouse them from their sleep. Only then will the Hero reveal the NumPyte Crystal.\"\n",
    "\n",
    "You spot a small bridge leading across the chasm. On the other side you see an archway, indicating the resuming passageway leads onward. You pull out your notes and find the pages that show the recipe for the solution. It reads: \n",
    "\n",
    "\"Firejelly and Sourcewater react quite violently when they come into contact with each other. However, with the right shape and size, these two fluids can be combined to create Witskey, an extremely potent revival potion. You will need to weave these two liquids together when the time is right.\"\n",
    "\n",
    "That seems pretty straight-forward - you just have to GET some firejelly."
   ]
  },
  {
   "cell_type": "markdown",
   "metadata": {},
   "source": [
    "### Task 4: Extract Some Firejelly Without Falling\n",
    "\n",
    "As you step onto the bridge, you notice that it is PRECARIOUS. Each step is a chance that you may fall. There are cracks in EVERY plank, and you need to use your toolkit to find the planks where you can harvest some Firejelly. You scan the bridge for the strength of each plank."
   ]
  },
  {
   "cell_type": "code",
   "execution_count": 76,
   "metadata": {},
   "outputs": [],
   "source": [
    "# This is the bridge - planks that you can safely stop on have a sum greater than 10\n",
    "BRIDGE = np.array([\n",
    "    [2, 5],\n",
    "    [4, 5],\n",
    "    [6, 2],\n",
    "    [3, 7],\n",
    "    [1, 3],\n",
    "    [5, 2],\n",
    "    [2, 5],\n",
    "    [4, 5],\n",
    "    [6, 8],\n",
    "    [3, 7],\n",
    "    [1, 3],\n",
    "    [5, 6]\n",
    "])"
   ]
  },
  {
   "cell_type": "markdown",
   "metadata": {},
   "source": [
    "You know that your toolkit has methods to analyze each cell in an array for a certain condition. You'll need to sum each plank and determine where the planks are strong enough (greater than 10) for you to grab some Firejelly. Some suggestions from the guidebook:\n",
    "- [indexing](https://numpy.org/doc/stable/user/absolute_beginners#indexing-and-slicing)\n",
    "- [`.where()`](https://numpy.org/doc/stable/reference/generated/numpy.where.html)\n",
    "- [`.sum()`](https://numpy.org/doc/stable/user/absolute_beginners#basic-array-operations)"
   ]
  },
  {
   "cell_type": "code",
   "execution_count": 89,
   "metadata": {
    "nbgrader": {
     "grade": false,
     "grade_id": "task-4-solution",
     "locked": false,
     "schema_version": 3,
     "solution": true,
     "task": false
    }
   },
   "outputs": [
    {
     "data": {
      "text/plain": [
       "array([ 8, 11])"
      ]
     },
     "execution_count": 89,
     "metadata": {},
     "output_type": "execute_result"
    }
   ],
   "source": [
    "# Find the indices in the bridge where the sum of the two items in each row is greater than 10.\n",
    "# bridge_indices should return a 1-D array.\n",
    "bridge_indices = None\n",
    "### BEGIN SOLUTION\n",
    "bridge_indices = np.where(BRIDGE.sum(axis=1) > 10)[0]\n",
    "### END SOLUTION\n",
    "\n",
    "bridge_indices"
   ]
  },
  {
   "cell_type": "code",
   "execution_count": 90,
   "metadata": {
    "nbgrader": {
     "grade": true,
     "grade_id": "task-4-tests",
     "locked": true,
     "points": 1,
     "schema_version": 3,
     "solution": false,
     "task": false
    }
   },
   "outputs": [
    {
     "name": "stdout",
     "output_type": "stream",
     "text": [
      "Success!\n"
     ]
    }
   ],
   "source": [
    "assert bridge_indices is not None, \"bridge_indices must be assigned to something!\"\n",
    "### BEGIN HIDDEN TESTS\n",
    "assert isinstance(bridge_indices, np.ndarray), \"bridge_indices must be a NumPy array!\"\n",
    "assert bridge_indices.shape == (2,), \"bridge_indices must be a 1D array of length 2!\"\n",
    "### END HIDDEN TESTS\n",
    "print(\"Success!\")"
   ]
  },
  {
   "cell_type": "code",
   "execution_count": 91,
   "metadata": {},
   "outputs": [
    {
     "data": {
      "text/plain": [
       "array([[1., 1.],\n",
       "       [1., 1.],\n",
       "       [1., 1.],\n",
       "       [1., 1.],\n",
       "       [1., 1.],\n",
       "       [1., 1.],\n",
       "       [1., 1.],\n",
       "       [1., 1.]])"
      ]
     },
     "execution_count": 91,
     "metadata": {},
     "output_type": "execute_result"
    }
   ],
   "source": [
    "fj_vial = np.ones((sw_vial.shape[0], bridge_indices.shape[0]))\n",
    "\n",
    "fj_vial"
   ]
  },
  {
   "cell_type": "markdown",
   "metadata": {},
   "source": [
    "You make it to the other edge of the chasm, trying hard not to look down, and approach the exit. Now that you're closer to the archway, you can smell what seems to be soil and pine after a hard rain, and you can hear an odd intermittent beeping. There's a pattern to it, and after a few moments of listening you recognize it as Morse code. Luckily, you have a Morse datachip that you can use to create a translator with your toolkit, and a small recorder to convert the code to a text-based sequence of 'dits' ('.') and 'dahs' ('-'). Your current goal is to use the dictionary and these recorded dits and dahs to reveal the nature of the Morse call."
   ]
  },
  {
   "cell_type": "markdown",
   "metadata": {},
   "source": [
    "### Task 5: Translate the Morse"
   ]
  },
  {
   "cell_type": "code",
   "execution_count": 92,
   "metadata": {},
   "outputs": [],
   "source": [
    "morse = {\n",
    "       '.-': 'A',\n",
    "       '-...': 'B',\n",
    "       '-.-.': 'C',\n",
    "       '-..': 'D',\n",
    "       '.': 'E',\n",
    "       '..-.': 'F',\n",
    "       '--.': 'G',\n",
    "       '....': 'H',\n",
    "       '..': 'I',\n",
    "       '.---': 'J',\n",
    "       '-.-': 'K',\n",
    "       '.-..': 'L',\n",
    "       '--': 'M',\n",
    "       '-.': 'N',\n",
    "       '---': 'O',\n",
    "       '.--.': 'P',\n",
    "       '--.-': 'Q',\n",
    "       '.-.': 'R',\n",
    "       '...': 'S',\n",
    "       '-': 'T',\n",
    "       '..-': 'U',\n",
    "       '...-': 'V',\n",
    "       '.--': 'W',\n",
    "       '-..-': 'X',\n",
    "       '-.--': 'Y',\n",
    "       '--..': 'Z',\n",
    "       '.----': '1',\n",
    "       '..---': '2',\n",
    "       '...--': '3',\n",
    "       '....-': '4',\n",
    "       '.....': '5',\n",
    "       '-....': '6',\n",
    "       '--...': '7',\n",
    "       '---..': '8',\n",
    "       '----.': '9',\n",
    "       '-----': '0',\n",
    "       '--..--': ', ',\n",
    "       '.-.-.-': '.',\n",
    "       '..--..': '?',\n",
    "       '-..-.': '/',\n",
    "       '-....-': '-',\n",
    "       '-.--.': '(',\n",
    "       '-.--.-': ')'\n",
    "}\n",
    "\n",
    "signal = np.array(['.--', '....', '---', '.-..', '..', '...-', '.', '...', '..', '-.',\n",
    "       '.-', '.--.', '..', '-.', '.', '.-', '.--.', '.--.', '.-..', '.',\n",
    "       '..-', '-.', '-..', '.', '.-.', '-', '....', '.', '...', '.', '.-',\n",
    "       '..--..'])"
   ]
  },
  {
   "cell_type": "code",
   "execution_count": 97,
   "metadata": {
    "nbgrader": {
     "grade": false,
     "grade_id": "task-5-solution",
     "locked": false,
     "schema_version": 3,
     "solution": true,
     "task": false
    }
   },
   "outputs": [
    {
     "name": "stdout",
     "output_type": "stream",
     "text": [
      "['W', 'H', 'O', 'L', 'I', 'V', 'E', 'S', 'I', 'N', 'A', 'P', 'I', 'N', 'E', 'A', 'P', 'P', 'L', 'E', 'U', 'N', 'D', 'E', 'R', 'T', 'H', 'E', 'S', 'E', 'A', '?']\n"
     ]
    }
   ],
   "source": [
    "# Translate the ENCRYPTED_SIGNAL using the morse dictionary and a list comprehension\n",
    "translated_signal = None\n",
    "### BEGIN SOLUTION\n",
    "translated_signal = ([morse.get(code, '?') for code in signal])\n",
    "### END SOLUTION\n",
    "\n",
    "print(translated_signal)"
   ]
  },
  {
   "cell_type": "code",
   "execution_count": 98,
   "metadata": {
    "nbgrader": {
     "grade": true,
     "grade_id": "task-5-tests",
     "locked": true,
     "points": 1,
     "schema_version": 3,
     "solution": false,
     "task": false
    }
   },
   "outputs": [],
   "source": [
    "assert translated_signal is not None, \"translated_signal must be assigned to something!\"\n",
    "### BEGIN HIDDEN TESTS\n",
    "assert isinstance(translated_signal, list), \"translated_signal must be a list!\"\n",
    "assert len(translated_signal) == len(signal), \"translated_signal must be the same length as signal!\"\n",
    "### END HIDDEN TESTS"
   ]
  },
  {
   "cell_type": "markdown",
   "metadata": {},
   "source": [
    "Assign the signal's response (in English, not Morse) to a variable called 'signal_response'. We'll use this later."
   ]
  },
  {
   "cell_type": "code",
   "execution_count": 99,
   "metadata": {
    "nbgrader": {
     "grade": false,
     "grade_id": "signal_cell",
     "locked": false,
     "schema_version": 3,
     "solution": true,
     "task": false
    }
   },
   "outputs": [
    {
     "data": {
      "text/plain": [
       "'SPONGEBOB SQUAREPANTS'"
      ]
     },
     "execution_count": 99,
     "metadata": {},
     "output_type": "execute_result"
    }
   ],
   "source": [
    "signal_response = None\n",
    "### BEGIN SOLUTION\n",
    "signal_response = 'SPONGEBOB SQUAREPANTS'\n",
    "### END SOLUTION\n",
    "\n",
    "signal_response"
   ]
  },
  {
   "cell_type": "markdown",
   "metadata": {},
   "source": [
    "### Task 6: Mix the Vials"
   ]
  },
  {
   "cell_type": "markdown",
   "metadata": {},
   "source": [
    "You now have both vials and an odd question (to which you may already know the answer - if you don't, even down here, you have enough signal to browse the internet). Before moving on, you pull out a peculiar cross-hatched flask from your toolkit, one that's meant specifically to combine these two materials into one fluid. With a simple command, you can interleave the two vials into a single flask. You can use [`.dstack()`](https://numpy.org/doc/stable/reference/generated/numpy.dstack.html) and one of the methods you've used [above](#Task-3:-Adjusting-the-Vial-Shape) to stack the arrays depth-wise into a shape of (8, 4)."
   ]
  },
  {
   "cell_type": "code",
   "execution_count": 101,
   "metadata": {
    "nbgrader": {
     "grade": false,
     "grade_id": "task-6-solution",
     "locked": false,
     "schema_version": 3,
     "solution": true,
     "task": false
    }
   },
   "outputs": [
    {
     "data": {
      "text/plain": [
       "array([[0., 1., 0., 1.],\n",
       "       [0., 1., 0., 1.],\n",
       "       [0., 1., 0., 1.],\n",
       "       [0., 1., 0., 1.],\n",
       "       [0., 1., 0., 1.],\n",
       "       [0., 1., 0., 1.],\n",
       "       [0., 1., 0., 1.],\n",
       "       [0., 1., 0., 1.]])"
      ]
     },
     "execution_count": 101,
     "metadata": {},
     "output_type": "execute_result"
    }
   ],
   "source": [
    "solution_flask = None\n",
    "\n",
    "### BEGIN SOLUTION\n",
    "mix_vial = np.dstack((sw_vial, fj_vial))\n",
    "solution_flask = np.reshape(mix_vial,(8,4))\n",
    "### END SOLUTION\n",
    "\n",
    "solution_flask"
   ]
  },
  {
   "cell_type": "code",
   "execution_count": 102,
   "metadata": {
    "nbgrader": {
     "grade": true,
     "grade_id": "task-6-tests",
     "locked": true,
     "points": 1,
     "schema_version": 3,
     "solution": false,
     "task": false
    }
   },
   "outputs": [
    {
     "name": "stdout",
     "output_type": "stream",
     "text": [
      "Success!\n"
     ]
    }
   ],
   "source": [
    "assert solution_flask is not None, \"solution_flask must be assigned to something!\"\n",
    "### BEGIN HIDDEN TESTS\n",
    "assert isinstance(solution_flask, np.ndarray), \"solution_flask must be a NumPy array!\"\n",
    "assert solution_flask.shape == (8, 4), \"solution_flask must be a 2D array of shape (8, 4)!\"\n",
    "assert np.isnan(solution_flask).any() == False, \"solution_flask should not contain any NaN values!\"\n",
    "assert np.isinf(solution_flask).any() == False, \"solution_flask should not contain any infinite values!\"\n",
    "assert (solution_flask >= 0).all(), \"solution_flask should not contain any negative values!\"\n",
    "### END HIDDEN TESTS\n",
    "print(\"Success!\")\n"
   ]
  },
  {
   "cell_type": "markdown",
   "metadata": {},
   "source": [
    "Well done, you've safely combined the Sourcewater and Firejelly to create Witskey! Now all that's left is to take it to the final chamber, where the vessel of the True Hero slumbers and the NumPyte shard awaits your discovery. With a deep breath, you pass through the final archway and step down the passageway to the Matrix Grotto."
   ]
  },
  {
   "cell_type": "markdown",
   "metadata": {},
   "source": [
    "## The Solution"
   ]
  },
  {
   "cell_type": "markdown",
   "metadata": {},
   "source": [
    "You arrive in the final chamber, a marvelous living cathedral. Below, the Sourcewater from above drips into pools that mingle noisily with nearby Firejelly, create small sparking fireworks. Surrounding these pools are lush oases of shrubs, ferns, and wildflowers, thriving in the underground paradise. At the center of the vast cavern lies an overgrown temple, obviously left to ruin millennia ago. You climb down to the ruin and peak through the door. Inside, the pops and drips are muffled by the stone walls but you look through the torn rafters above and can see the stalactites on the ceiling, shimmering with Sourcewater and reflecting the orange of the Firejelly below. You step into the quiet room of the temple, and spot an oddly colored rectangle on a stone dais. It... seemed like a sponge, like one you would use for cleaning your sink. You feel a pull towards the dais from the flask at your hip. \n",
    "\n",
    "There is one final step - distilling the Witskey down to a single drop. There is nothing completely new to this step besides [broadcasting](https://numpy.org/doc/stable/user/absolute_beginners.html#broadcasting) to the values of the flask's array - a very useful trick even outside of this cave, as are all of the NumPy toolkit's many applications. You brace yourself and get to work."
   ]
  },
  {
   "cell_type": "markdown",
   "metadata": {},
   "source": [
    "### Task 7: Distill and Apply the Solution"
   ]
  },
  {
   "cell_type": "code",
   "execution_count": 108,
   "metadata": {
    "nbgrader": {
     "grade": false,
     "grade_id": "task-7-solution",
     "locked": false,
     "schema_version": 3,
     "solution": true,
     "task": false
    }
   },
   "outputs": [
    {
     "data": {
      "text/plain": [
       "np.float64(24.0)"
      ]
     },
     "execution_count": 108,
     "metadata": {},
     "output_type": "execute_result"
    }
   ],
   "source": [
    "# Distill the solution flask by: \n",
    "# - slicing the first 6 rows of solution_flask to distilled_solution,\n",
    "# - multiplying these rows by 2 (broadcasting),\n",
    "# - and finding the sum of the entire matrix.\n",
    "\n",
    "distilled_solution = None\n",
    "### BEGIN SOLUTION\n",
    "s_slice = solution_flask[:6]\n",
    "m_slice = s_slice*2\n",
    "sum_slice = np.sum(m_slice)\n",
    "distilled_solution = sum_slice\n",
    "### END SOLUTION\n",
    "\n",
    "distilled_solution"
   ]
  },
  {
   "cell_type": "code",
   "execution_count": 109,
   "metadata": {
    "nbgrader": {
     "grade": true,
     "grade_id": "task-7-tests",
     "locked": true,
     "points": 1,
     "schema_version": 3,
     "solution": false,
     "task": false
    }
   },
   "outputs": [
    {
     "name": "stdout",
     "output_type": "stream",
     "text": [
      "\n",
      "Success!\n",
      "You've distilled the Witskey to its purest form and drop it onto the golden sponge.\n",
      "You hear a rumbling in the distance, and the cave begins to shake.\n",
      "The sponge begins to glow, and you feel a rush of energy as you absorb the solution.\n",
      "You hear a voice in your head, as if just waking from a deep, deep slumber.\n",
      "'Who... who am I?'\n",
      "You shout at the top of your lungs, \n",
      "      'SPONGEBOB SQUAREPANTS'!\n",
      "The cave shakes even more violently, and you hear a loud crash.\n",
      "Looking up, you see the ceiling above you beginning to crumble.\n",
      "There is no exit, and you are trapped. It seems as if all is lost.\n",
      "You cover your head and accept that all is lost. Then, you hear,\n",
      "    'I am... I am... SPONGEBOB SQUAREPANTS! AND I AM READY!'\n",
      "You are swept up by powerful hands and carried out of the cave, through the falling debris.\n",
      "You emerge from the cave, and the hands set you down on the ground.\n",
      "You look up to see a giant yellow sponge with a square face.\n",
      "'You have freed me from my slumber, and I am eternally grateful.\n",
      "I will grant you one wish, anything you desire.'\n",
      "You think for a moment, and then you say,\n",
      "'The NumPyte Shard! Is it destroyed?' The cave is rubble, and you fear the worst.\n",
      "The sponge looks at you, and then looks down at the ground.\n",
      "'The NumPyte Shard can never be destroyed...\n",
      "So long as it lives on in the hearts of adventurers like you.'\n",
      "And with that, the great sponge ascends into the sky, and you are left alone.\n",
      "You glance down at the ground, and see a small crystal shaped like a simple, perfect hamburger.\n",
      "You pick it up and feel a surge of energy, and you know that you possess the ~NumPyte Shard~.\n",
      "With your toolkit and newfound power in hand, you set off on your next adventure in the land of Datalore.\n",
      "\n"
     ]
    }
   ],
   "source": [
    "assert distilled_solution is not None, \"distilled_solution must be assigned to something!\"\n",
    "### BEGIN HIDDEN TESTS\n",
    "assert isinstance(distilled_solution, np.float64), \"distilled_solution must be a NumPy float64!\"\n",
    "assert int(distilled_solution) == 24, \"distilled_solution must be equal to the answer!\"\n",
    "print(f\"\"\"\n",
    "Success!\n",
    "You've distilled the Witskey to its purest form and drop it onto the golden sponge.\n",
    "You hear a rumbling in the distance, and the cave begins to shake.\n",
    "The sponge begins to glow, and you feel a rush of energy as you absorb the solution.\n",
    "You hear a voice in your head, as if just waking from a deep, deep slumber.\n",
    "'Who... who am I?'\n",
    "You shout at the top of your lungs, \n",
    "      '{signal_response}'!\n",
    "The cave shakes even more violently, and you hear a loud crash.\n",
    "Looking up, you see the ceiling above you beginning to crumble.\n",
    "There is no exit, and you are trapped. It seems as if all is lost.\n",
    "You cover your head and accept that all is lost. Then, you hear,\n",
    "    'I am... I am... {signal_response}! AND I AM READY!'\n",
    "You are swept up by powerful hands and carried out of the cave, through the falling debris.\n",
    "You emerge from the cave, and the hands set you down on the ground.\n",
    "You look up to see a giant yellow sponge with a square face.\n",
    "'You have freed me from my slumber, and I am eternally grateful.\n",
    "I will grant you one wish, anything you desire.'\n",
    "You think for a moment, and then you say,\n",
    "'The NumPyte Shard! Is it destroyed?' The cave is rubble, and you fear the worst.\n",
    "The sponge looks at you, and then looks down at the ground.\n",
    "'The NumPyte Shard can never be destroyed...\n",
    "So long as it lives on in the hearts of adventurers like you.'\n",
    "And with that, the great sponge ascends into the sky, and you are left alone.\n",
    "You glance down at the ground, and see a small crystal shaped like a simple, perfect hamburger.\n",
    "You pick it up and feel a surge of energy, and you know that you possess the ~NumPyte Shard~.\n",
    "With your toolkit and newfound power in hand, you set off on your next adventure in the land of Datalore.\n",
    "\"\"\")\n",
    "### END HIDDEN TESTS"
   ]
  },
  {
   "cell_type": "markdown",
   "metadata": {},
   "source": [
    "Congrats, you've finished the notebook! Want to know what happens? Submit to JupyterHub and your instructor will let you know when your feedback has been released - you'll be able to read the final paragraph of the adventure at that time!"
   ]
  }
 ],
 "metadata": {
  "kernelspec": {
   "display_name": "DemoENv",
   "language": "python",
   "name": "python3"
  },
  "language_info": {
   "codemirror_mode": {
    "name": "ipython",
    "version": 3
   },
   "file_extension": ".py",
   "mimetype": "text/x-python",
   "name": "python",
   "nbconvert_exporter": "python",
   "pygments_lexer": "ipython3",
   "version": "3.11.9"
  }
 },
 "nbformat": 4,
 "nbformat_minor": 4
}
